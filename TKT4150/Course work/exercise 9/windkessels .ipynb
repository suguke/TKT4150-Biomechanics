{
 "cells": [
  {
   "cell_type": "markdown",
   "metadata": {},
   "source": [
    "# TKT 4150 Biomechanics: Problem set 9\n",
    "For an optimal experience visit \"NTNU's jupyter-server\": \"(https://10.212.25.27/hub)\" and login with your NTNU credentials or visit \"tmpnb.org\": \"(http://tmpnb.org)\" and upload \"windkessels.ipynb\", \"Windkessel Schematics.jpg\", and '55arteryNetwork\\_age19.csv' and '55arteryNetwork\\_age75.csv'. Then open windkessels.ipynb on that server to continue.\n",
    "\n",
    "\n",
    "### Introduction\n",
    "\n",
    "This is an IPython notebook, for a more general introduction please see this \"introduction\": \"(https://nbviewer.jupyter.org/github/jupyter/notebook/blob/master/docs/source/examples/Notebook/Notebook%20Basics.ipynb)\" and \"guide\": \"(https://nbviewer.jupyter.org/github/jupyter/notebook/blob/master/docs/source/examples/Notebook/Running%20Code.ipynb)\" where you can download a similar notebooks that are more instructional. This website gives a similar \"guide\": \"(https://jupyter-notebook-beginner-guide.readthedocs.io/en/latest/)\".\n",
    "\n",
    "### Save your work!\n",
    "\n",
    "* If you are running this on \"tmpnb.org\": \"(http://tmpnb.org)\", remember to save your work by downloading the notebook via clicking `File->Download As` in the toolbar.\n",
    "\n",
    "<!-- --- begin exercise --- -->\n",
    "\n",
    "## Exercise 1: Deriving the Windkessel Model\n",
    "\n",
    "\n",
    "**a)**\n",
    "<!-- dom:FIGURE: [windkessel2.png, width=300] Diagram of mass balance in a section of compliant pipe. $Q$ is $Q_1$, $Q_p$ is $Q_2$. -->\n",
    "<!-- begin figure -->\n",
    "\n",
    "<p>Diagram of mass balance in a section of compliant pipe. $Q$ is $Q_1$, $Q_p$ is $Q_2$.</p>\n",
    "<img src=\"windkessel2.png\" width=300>\n",
    "\n",
    "<!-- end figure -->\n",
    "\n",
    "\n",
    "Use the principle of conservation of mass to derive the differential equation for pressure corresponding to the 2 element Windkessel by assuming a compliant tube with inflow $Q_1$ such the $A(P) = C P$ where the distal (downstream) flow out of the tube $Q_2$ is driven across a fluid resistance $R_p$ such that $P=R Q_2$. $Q_2$ is the flow out of compliant arteries over the peripheral (resistance) vessels.\n",
    "\n",
    "**b)**\n",
    "Derivation of 4-element Windkessel Model via averaging of the 1-D Navier Stokes ===\n",
    "Consider the governing equations for flow through a compliant tube"
   ]
  },
  {
   "cell_type": "markdown",
   "metadata": {},
   "source": [
    "$$\n",
    "\\frac{\\partial A}{\\partial t} + \\frac{\\partial Q}{\\partial x} = 0\n",
    "$$\n",
    "$$\n",
    "\\frac{\\partial Q}{\\partial t} + \\frac{\\partial}{\\partial x}(\\frac{Q^2}{A}) + \\frac{A}{\\rho} \\frac{\\partial P}{\\partial x} + K_R \\frac{Q}{A} = 0\n",
    "$$"
   ]
  },
  {
   "cell_type": "markdown",
   "metadata": {},
   "source": [
    "completed with the constitutive equation $P=\\beta(\\sqrt{A}-\\sqrt{A_0})$\n",
    "\n",
    "Show that the average values of $P$, $A$ and $Q$, i.e. $\\bar{P} = \\frac{1}{l}\\int_0^l P dx$ may be related as"
   ]
  },
  {
   "cell_type": "markdown",
   "metadata": {},
   "source": [
    "<!-- Equation labels as ordinary links -->\n",
    "<div id=\"_auto2\"></div>\n",
    "\n",
    "$$\n",
    "\\begin{equation}\n",
    "k_1 l \\frac{d \\bar{P}}{dt} = Q_1 - Q_2\n",
    "\\label{_auto2} \\tag{3}\n",
    "\\end{equation}\n",
    "$$"
   ]
  },
  {
   "cell_type": "markdown",
   "metadata": {},
   "source": [
    "and"
   ]
  },
  {
   "cell_type": "markdown",
   "metadata": {},
   "source": [
    "<!-- Equation labels as ordinary links -->\n",
    "<div id=\"_auto3\"></div>\n",
    "\n",
    "$$\n",
    "\\begin{equation}\n",
    "\\frac{d\\bar{Q}}{dt}\\frac{\\rho l}{A_0} + \\frac{K_{R} l \\rho}{{A_0^2}} \\bar{Q} = P(0) - P(l)\n",
    "\\label{_auto3} \\tag{4}\n",
    "\\end{equation}\n",
    "$$"
   ]
  },
  {
   "cell_type": "markdown",
   "metadata": {},
   "source": [
    "by integrating the partial differential equations from $x=0$ to $x=l$, which are essentially the 4-element Windkessel's equations. To complete the system assume a resistance, $R_p$, between $P(l)$ and venous pressure $P_v=0$.\n",
    "$K_R$ is the coefficient of viscous friction for a given velocity profile and $A_0$ is the characteristic cross sectional area.\n",
    "\n",
    "<!-- --- begin hint in exercise --- -->\n",
    "\n",
    "**Hint.**\n",
    "To find $\\frac{d\\bar{P}}{dt}$ consider the chain rule.\n",
    "\n",
    "Assume the convective term $\\frac{\\partial}{\\partial x} (\\frac{Q^2}{A})$ is negligible and that spatial variations in $A$ are much smoother than variations in $P$ and $Q$, i.e. treat $A$ as a constant over space.\n",
    "\n",
    "<!-- --- end hint in exercise --- -->\n",
    "\n",
    "<!-- --- end exercise --- -->\n",
    "\n",
    "\n",
    "\n",
    "\n",
    "<!-- --- begin exercise --- -->\n",
    "\n",
    "## Exercise 2: Frequency domain impedance analysis comparison of Windkessel models\n",
    "\n",
    "Windkessel models are often used to interpret pressure and flow signals in the frequence domain. In this domain the relationship between pressure and flow is given as $\\hat{p} = Z \\hat{q}$ where $\\hat{p}$ and $\\hat{q}$ are the fourier transform of $p$ and $q$.\n",
    "Impedances are linear and thus may be added accordning to the formula $Z_{eq} = \\sum Z_{i}$ for impedances in series, i.e. same flow through a sequence of elements, and $Z_{eq}^{-1} = \\sum Z_{i}^{-1}$ for impedances in parallel, i.e. same pressure across a sequence of elements by split of flow. Capacitance has an impedance $Z_{C} = \\frac{1}{j \\omega C}$, resistance has impedance $Z_{R} = R$, and inertance has impedance $Z_{L} = j \\omega L$ where $\\omega= 2\\pi f$ is the angular frequency.\n",
    "\n",
    "<!-- dom:FIGURE: [WindkesselSchematics.jpg, width=300] Diagrams of various Windkessel type models. <div id=\"fig:wkschemes\"></div> -->\n",
    "<!-- begin figure -->\n",
    "<div id=\"fig:wkschemes\"></div>\n",
    "\n",
    "<p>Diagrams of various Windkessel type models.</p>\n",
    "<img src=\"WindkesselSchematics.jpg\" width=300>\n",
    "\n",
    "<!-- end figure -->\n",
    "\n",
    "\n",
    "\n",
    "**a)**\n",
    "Derive the impedance for the 2-Element, 3-Element and 4-Element Windkessel models shown inf [Figure](#fig:wkschemes) \n",
    "Using the above relations find equivalent impedances for each of the schematics. \n",
    "Compare the input impedances over frequencies of inputs. \n",
    "What interpretation can you make about the impedances at low and high frequencies?\n",
    "\n",
    "**b)**\n",
    "Compare how well these relations fit some data.\n",
    "Below you will find implementation of the functions necessary to fit the impedance of the 2 element Windkessel model to a data set, e.g. './55arteryNetwork\\_age19.csv' and './55arteryNetwork\\_age75.csv'. If you prefer to use `Matlab` the attached files have code to get you started. The same python code is also available as a python script.\n",
    "\n",
    "Use this to compare compliance, characteristic aortic impediance, and characteristic aortic intertance between the 19 year old and the 75 year old."
   ]
  },
  {
   "cell_type": "code",
   "execution_count": null,
   "metadata": {
    "collapsed": true
   },
   "outputs": [],
   "source": [
    "%matplotlib inline\n",
    "\n",
    "import numpy as np\n",
    "import scipy as sp\n",
    "import scipy.optimize \n",
    "from scipy import io as sio\n",
    "from matplotlib import pyplot as plt\n"
   ]
  },
  {
   "cell_type": "code",
   "execution_count": 8,
   "metadata": {
    "collapsed": true
   },
   "outputs": [],
   "source": [
    "unit_Pa_to_mmHg = 1/133.32\n",
    "unit_m3_to_ml = 1e6"
   ]
  },
  {
   "cell_type": "code",
   "execution_count": 1,
   "metadata": {},
   "outputs": [],
   "source": [
    "# This code may be used to import ./55arteryNetwork_age19.csv or ./55arteryNetwork_age75.csv\n",
    "csv = np.genfromtxt ('./55arteryNetwork_age19.csv', delimiter=\";\", names=True)\n",
    "p = csv[\"P_Pa\"]*unit_Pa_to_mmHg\n",
    "q = csv[\"Q_m3s\"]*unit_m3_to_ml\n",
    "t = csv[\"t_s\"]\n",
    "dt = dt = t[1]-t[0]\n",
    "N = len(t)\n",
    "T = N*dt\n",
    "w = np.arange(N//2+1)*2*np.pi/T # Frequencies corresponding to an FFT of the data."
   ]
  },
  {
   "cell_type": "code",
   "execution_count": 2,
   "metadata": {},
   "outputs": [],
   "source": [
    "def ZWK2(R,C,w):\n",
    "    \"\"\" Calculate and return impedance of a 2elt WK \n",
    "    Args:\n",
    "        R Resistance\n",
    "        C Compliance\n",
    "        w the frequencies at which the impediance is calculated.\n",
    "    \"\"\"\n",
    "    Z=R/(1+1j*w*R*C)\n",
    "    return Z"
   ]
  },
  {
   "cell_type": "code",
   "execution_count": 3,
   "metadata": {},
   "outputs": [],
   "source": [
    "def WKresidual(C,R,p,q,t):\n",
    "    \"\"\" Calculates error between Windkessel model and Data\n",
    "        Args:\n",
    "            C - compliance\n",
    "            R - Resistance\n",
    "            p - pressure measurements in time domain\n",
    "            Qfft - Discrete fourier transform of flows corresponding to p\n",
    "            w - frequencies of DFT\n",
    "            t - times of p\n",
    "        Returns:\n",
    "            r : the sum of squared errors between pwk and p\n",
    "    \"\"\"\n",
    "    N=len(q)\n",
    "    dt=t[1]-t[0]\n",
    "    T = N*dt;\n",
    "    w = np.arange(N//2+1)*2*np.pi/T\n",
    "    Qfft = np.fft.rfft(q)\n",
    "    Pfft = np.fft.rfft(p)\n",
    "    Zdata=Pfft/Qfft\n",
    "    Z=ZWK2(R,C,w)\n",
    "    Pwk_fft=Z*Qfft\n",
    "    r=np.sum(np.abs(Pfft-Pwk_fft)**2)/N\n",
    "    return r"
   ]
  },
  {
   "cell_type": "code",
   "execution_count": 4,
   "metadata": {},
   "outputs": [],
   "source": [
    "#===============================================================================\n",
    "# Guess a compliance value\n",
    "#===============================================================================\n",
    "R=np.mean(p)/np.mean(q) # Total arterial reistance is given by the ratio of \n",
    "                        # average pressure to average flow. This is not always \n",
    "                        # the same as the peripheral resistance\n",
    "C_guess=0.9\n",
    "\n",
    "\n",
    "#---Compute the pressure pwk0 from impedance based on the guessed compliance value\n",
    "Qfft=np.fft.rfft(q)\n",
    "Z = ZWK2(R,C_guess,w)\n",
    "pwk0 = np.fft.irfft(Qfft*Z,len(q))  #the len(q) has has to be specified when len(q) is odd\n",
    "\n",
    "def residual(opt_args):\n",
    "    \"\"\"Transform WKresidual to a residual function of C, \n",
    "    which is the only scalar argument\"\"\"\n",
    "    return WKresidual(opt_args[0], R, p, q,t)\n",
    "\n",
    "#===============================================================================\n",
    "#  Estimate the compliance \n",
    "#===============================================================================\n",
    "import scipy.optimize\n",
    "\n",
    "res = scipy.optimize.minimize(residual, [C_guess,])\n",
    "#res = scipy.optimize.minimize_scalar(lambda C: WKresidual(C, R, p, q,t))\n",
    "C=res.x[0]\n",
    "print ('C=%f'%C)\n",
    "\n",
    "\n",
    "Z = ZWK2(R,C,w)\n",
    "pwk = np.fft.irfft(Z*Qfft,len(q))\n",
    "\n",
    "\n",
    "#===============================================================================\n",
    "# Plot solutions\n",
    "#===============================================================================\n",
    "plt.figure()\n",
    "plt.title('Predicted pressures based on estimated compliances')\n",
    "_=plt.plot(t,pwk0, label=\"C guess\")\n",
    "_=plt.plot(t,pwk, label=\"C estimated fft\")\n",
    "_=plt.plot(t,p,'k', label=\"data\")\n",
    "_=plt.legend()\n",
    "plt.xlabel(\"Time\")\n",
    "plt.ylabel(\"Pressure\")"
   ]
  },
  {
   "cell_type": "markdown",
   "metadata": {},
   "source": [
    "<!-- --- end exercise --- -->"
   ]
  }
 ],
 "metadata": {
  "kernelspec": {
   "display_name": "Python [default]",
   "language": "python",
   "name": "python3"
  },
  "language_info": {
   "codemirror_mode": {
    "name": "ipython",
    "version": 3
   },
   "file_extension": ".py",
   "mimetype": "text/x-python",
   "name": "python",
   "nbconvert_exporter": "python",
   "pygments_lexer": "ipython3",
   "version": "3.5.3"
  }
 },
 "nbformat": 4,
 "nbformat_minor": 2
}
