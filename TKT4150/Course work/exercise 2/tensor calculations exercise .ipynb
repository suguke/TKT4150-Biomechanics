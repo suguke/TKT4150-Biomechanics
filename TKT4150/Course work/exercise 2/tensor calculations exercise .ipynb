{
 "cells": [
  {
   "cell_type": "markdown",
   "metadata": {},
   "source": [
    "# Excercise 2: Computational Stress Analysis\n",
    "### Introduction\n",
    "This is an IPython notebook, for a more general introduction please see this [introduction](https://nbviewer.jupyter.org/github/jupyter/notebook/blob/master/docs/source/examples/Notebook/Notebook%20Basics.ipynb) and [guide](https://nbviewer.jupyter.org/github/jupyter/notebook/blob/master/docs/source/examples/Notebook/Running%20Code.ipynb) where you can download a similar notebooks that are more instructional. This website gives a similar [guide](https://jupyter-notebook-beginner-guide.readthedocs.io/en/latest/). \n",
    "### Save your work!\n",
    "* If you are running this on [tmpnb.org](), remember to save your work by downloading the notebook via clicking `File->Download As` in the toolbar."
   ]
  },
  {
   "cell_type": "markdown",
   "metadata": {},
   "source": [
    "This block of text is called a cell. To edit a cell simply double click on it. When finished editing you may press \"`Shift+Return`\" to \"compile\" or \"typeset\" the cell. Try it with this cell."
   ]
  },
  {
   "cell_type": "code",
   "execution_count": 50,
   "metadata": {
    "collapsed": false
   },
   "outputs": [],
   "source": [
    "# This cell is a code cell you can put literal python code in here. When you press \"Shift+Return\" or select \n",
    "# Cell->Run Cells in the toolbar at the top of the page this code will exectute.\n",
    "# The next line ensures that plots show up in the document\n",
    "%matplotlib inline \n",
    "import numpy as np # This line imports a library called numpy which is used to do matrix, vector, and tensor calculations."
   ]
  },
  {
   "cell_type": "markdown",
   "metadata": {},
   "source": [
    "This cell describes the computational problem. We can put an equation in using  Latex, $\\LaTeX$, like the following stress matrix\n",
    "\\begin{equation}\n",
    "\\mathbf{T} = \\begin{bmatrix} 90& -30& 0\\\\ -30& 120& -30 \\\\ 0 &-30&  90 \\end{bmatrix} MPa\n",
    "\\end{equation}\n",
    "which we assume through the remainder of this exercise.\n",
    "\n",
    "Equivalently we can create the tensor in python as follows. Each row is represented as a \"list\" [a1,a2,a3] of the entries."
   ]
  },
  {
   "cell_type": "code",
   "execution_count": null,
   "metadata": {
    "collapsed": false
   },
   "outputs": [],
   "source": [
    "T= np.array([[90, -30, 0], \n",
    "            [-30, 120, -30],\n",
    "            [0, -30, 90]])\n",
    "print(T) # If you want to see the value of a variable, like T, simply print it out\n",
    "print(\"T={}\".format(T)) # or you can format it to print out more nicely."
   ]
  },
  {
   "cell_type": "code",
   "execution_count": null,
   "metadata": {
    "collapsed": false
   },
   "outputs": [],
   "source": [
    "# Here are some ways to get the values out of T\n",
    "T11 = T[0,0] #Indexing starts from 0\n",
    "print(T11)\n",
    "T1 = T[:,0]\n",
    "print(T1)\n",
    "T1 = T[1,:]\n",
    "print(T1)"
   ]
  },
  {
   "cell_type": "markdown",
   "metadata": {},
   "source": [
    "### Problems"
   ]
  },
  {
   "cell_type": "markdown",
   "metadata": {},
   "source": [
    "### Part a)\n",
    "For the given tensor $\\mathbf{T}$, establish the principal stresses $\\sigma_1$, $\\sigma_2$ and $\\sigma_3$, and the corresponding directions $\\mathbf{n}_1$, $\\mathbf{n}_2$ and $\\mathbf{n}_3$ with hand-calculations."
   ]
  },
  {
   "cell_type": "code",
   "execution_count": null,
   "metadata": {
    "collapsed": false
   },
   "outputs": [],
   "source": [
    "# Do this by hand"
   ]
  },
  {
   "cell_type": "markdown",
   "metadata": {},
   "source": [
    "### Part b)\n",
    "b) Find the numerical values for the three stress invariants $I$, $II$ and $III$ both by hand and using numpy functions like np.dot for matrix multiplication, np.linalg has many "
   ]
  },
  {
   "cell_type": "code",
   "execution_count": null,
   "metadata": {
    "collapsed": true
   },
   "outputs": [],
   "source": [
    "# Putting two question marks after something will bring up the help or documentation for it upon executing the cell.\n",
    "np.transpose??"
   ]
  },
  {
   "cell_type": "code",
   "execution_count": null,
   "metadata": {
    "collapsed": false
   },
   "outputs": [],
   "source": [
    "np.dot??"
   ]
  },
  {
   "cell_type": "code",
   "execution_count": null,
   "metadata": {
    "collapsed": true
   },
   "outputs": [],
   "source": [
    "np.linalg??"
   ]
  },
  {
   "cell_type": "markdown",
   "metadata": {},
   "source": [
    "### Part b)\n",
    "Use the invariants to establish the characteristic polynomial from the eigenvalue problem. Furthermore, plot the polynomial and graphically determine the principal stresses."
   ]
  },
  {
   "cell_type": "code",
   "execution_count": null,
   "metadata": {
    "collapsed": true
   },
   "outputs": [],
   "source": [
    "# Replace these invariants with your own\n",
    "I =1.0\n",
    "II = 2.0\n",
    "III = 3.0\n",
    "# This creates a function which we call polynomial, and this function can be evaluated for different x values\n",
    "polynomial = lambda x: III*x**3 + II*x**2 - I*x\n",
    "# Remember to replace this with the correct characteristic polynomial."
   ]
  },
  {
   "cell_type": "code",
   "execution_count": null,
   "metadata": {
    "collapsed": false
   },
   "outputs": [],
   "source": [
    "from matplotlib import pyplot as plt\n",
    "lower_bound = -3\n",
    "upper_bound = 3\n",
    "n_pts = 50\n",
    "xvals = np.linspace(lower_bound,upper_bound,n_pts) # Define points at which to evaluate the polynomial\n",
    "plt.plot(xvals,polynomial(xvals)) # Plot the polynomial at those points\n",
    "plt.plot(xvals,0*xvals) # Plot a horizontal line at y=0 at the same points"
   ]
  },
  {
   "cell_type": "code",
   "execution_count": null,
   "metadata": {
    "collapsed": false
   },
   "outputs": [],
   "source": [
    "lower_bound = -1.2\n",
    "upper_bound = 1.2\n",
    "np.linspace??\n",
    "xvals = np.linspace(lower_bound,upper_bound,n_pts)\n",
    "plt.plot(xvals,polynomial(xvals))\n",
    "plt.plot(xvals,0*xvals)"
   ]
  },
  {
   "cell_type": "markdown",
   "metadata": {},
   "source": [
    "### Part d)\n",
    "Use `fsolve` from the `scipy.optimize` library to find the solutions of the characteristic polynomial."
   ]
  },
  {
   "cell_type": "code",
   "execution_count": null,
   "metadata": {
    "collapsed": false
   },
   "outputs": [],
   "source": [
    "from scipy import optimize as opt\n",
    "opt.fsolve??\n",
    "initial_guess = -2\n",
    "print(opt.fsolve(polynomial,initial_guess))"
   ]
  },
  {
   "cell_type": "markdown",
   "metadata": {},
   "source": [
    "### Part e)\n",
    "Use `eig` to directly solve for the principal stresses and corresponding directions."
   ]
  },
  {
   "cell_type": "code",
   "execution_count": null,
   "metadata": {
    "collapsed": false
   },
   "outputs": [],
   "source": [
    "np.linalg.eig??"
   ]
  },
  {
   "cell_type": "markdown",
   "metadata": {},
   "source": [
    "### Part f)\n",
    "Plot the principal direction vectors $\\mathbf{n}_i$ (i=1,2,3)."
   ]
  },
  {
   "cell_type": "code",
   "execution_count": null,
   "metadata": {
    "collapsed": false
   },
   "outputs": [],
   "source": [
    "#Suppose we have one vector [0.7,0.5,0.33]\n",
    "xvals = [0,0.7]\n",
    "yvals = [0,0.5]\n",
    "zvals = [0,.33]\n",
    "\n",
    "\n",
    "from mpl_toolkits.mplot3d import Axes3D\n",
    "fig = plt.figure()\n",
    "ax = fig.gca(projection='3d')\n",
    "#ax.plot??\n",
    "ax.plot(xvals,yvals,zvals,'-ro')\n",
    "ax.set_xlabel('x_1')\n",
    "plt.show()\n",
    "\n",
    "## Change the view\n",
    "fig = plt.figure()\n",
    "ax = fig.gca(projection='3d')\n",
    "ax.plot(xvals,yvals,zvals,'-ro')\n",
    "ax.set_xlabel('x_1')\n",
    "ax.view_init(elev=30, azim=45) \n",
    "plt.show()"
   ]
  },
  {
   "cell_type": "markdown",
   "metadata": {},
   "source": [
    "### Part g) \n",
    "The maximum shear stress is found in an orientation between the directions of the smallest and largest principal stresses, $\\sigma_1$ and $\\sigma_3$, and in the plane normal to the direction of $\\sigma_2$. Determine the orientation (i.e. direction vector) where the stress element gets the largest shear stress, and the numerical value of this stress. Plot this direction vector together with the vectors in f)."
   ]
  },
  {
   "cell_type": "code",
   "execution_count": null,
   "metadata": {
    "collapsed": true
   },
   "outputs": [],
   "source": []
  }
 ],
 "metadata": {
  "kernelspec": {
   "display_name": "Python 3",
   "language": "python",
   "name": "python3"
  },
  "language_info": {
   "codemirror_mode": {
    "name": "ipython",
    "version": 3
   },
   "file_extension": ".py",
   "mimetype": "text/x-python",
   "name": "python",
   "nbconvert_exporter": "python",
   "pygments_lexer": "ipython3",
   "version": "3.4.3"
  }
 },
 "nbformat": 4,
 "nbformat_minor": 0
}
